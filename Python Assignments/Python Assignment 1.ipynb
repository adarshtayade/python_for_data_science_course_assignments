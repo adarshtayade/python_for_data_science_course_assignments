{
 "cells": [
  {
   "cell_type": "code",
   "execution_count": 1,
   "id": "aead6c08",
   "metadata": {},
   "outputs": [],
   "source": [
    "import numpy as np"
   ]
  },
  {
   "cell_type": "code",
   "execution_count": 2,
   "id": "e22d70ae",
   "metadata": {},
   "outputs": [
    {
     "data": {
      "text/plain": [
       "array([[ True,  True,  True],\n",
       "       [ True,  True,  True],\n",
       "       [ True,  True,  True]])"
      ]
     },
     "execution_count": 2,
     "metadata": {},
     "output_type": "execute_result"
    }
   ],
   "source": [
    "# 1)Create a 3×3 numpy array of all True’s\n",
    "x = np.ones((3,3), dtype=bool)\n",
    "x"
   ]
  },
  {
   "cell_type": "code",
   "execution_count": 3,
   "id": "e3b791f2",
   "metadata": {},
   "outputs": [
    {
     "data": {
      "text/plain": [
       "array([1, 3, 5, 7, 9])"
      ]
     },
     "execution_count": 3,
     "metadata": {},
     "output_type": "execute_result"
    }
   ],
   "source": [
    "# 2) Extract all odd numbers from arrays \n",
    "arr = np.array([0, 1, 2, 3, 4, 5, 6, 7, 8, 9]) \n",
    "arr[arr%2 == 1]"
   ]
  },
  {
   "cell_type": "code",
   "execution_count": 4,
   "id": "2c421852",
   "metadata": {},
   "outputs": [
    {
     "name": "stdout",
     "output_type": "stream",
     "text": [
      "[5 1 5 3 5 5 5 7 5 9]\n"
     ]
    }
   ],
   "source": [
    "# 3)Replace all even numbers in above array with -5 \n",
    "arr[arr%2 == 0] = 5\n",
    "print(arr)"
   ]
  },
  {
   "cell_type": "code",
   "execution_count": 5,
   "id": "6098a8ad",
   "metadata": {},
   "outputs": [
    {
     "data": {
      "text/plain": [
       "array([[0, 1, 2, 3, 4],\n",
       "       [5, 6, 7, 8, 9]])"
      ]
     },
     "execution_count": 5,
     "metadata": {},
     "output_type": "execute_result"
    }
   ],
   "source": [
    "# 4) Reshape an array \n",
    "x = np.array([ 0, 1, 2, 3, 4, 5, 6, 7, 8, 9]) \n",
    "x.reshape(2,5)"
   ]
  },
  {
   "cell_type": "code",
   "execution_count": 6,
   "id": "1693a3f3",
   "metadata": {},
   "outputs": [
    {
     "name": "stdout",
     "output_type": "stream",
     "text": [
      "False\n",
      "(array([1, 3, 5, 7], dtype=int64),)\n"
     ]
    }
   ],
   "source": [
    "# 5)How to get the positions where elements of two arrays match \n",
    "a = np.array([1,2,3,2,3,4,3,4,5,6]) \n",
    "b = np.array([7,2,10,2,7,4,9,4,9,8]) \n",
    "\n",
    "print((a==b).all())\n",
    "print(np.where(a==b))"
   ]
  },
  {
   "cell_type": "code",
   "execution_count": 7,
   "id": "22e7c181",
   "metadata": {},
   "outputs": [
    {
     "name": "stdout",
     "output_type": "stream",
     "text": [
      "Original array:\n",
      "[[1 2 3]\n",
      " [4 5 6]\n",
      " [7 8 9]]\n",
      "After swapping arrays the last column and first column:\n",
      "[[2 1 3]\n",
      " [5 4 6]\n",
      " [8 7 9]]\n"
     ]
    }
   ],
   "source": [
    "#6) Swap columns 1 and 2 in the array \n",
    "y = np.array ([[1,2,3],[4,5,6],[7,8,9]])\n",
    "print(\"Original array:\")\n",
    "print(y)\n",
    "y[:, [1,0]] = y[:, [0, 1]]\n",
    "print(\"After swapping arrays the last column and first column:\")\n",
    "print(y)"
   ]
  },
  {
   "cell_type": "code",
   "execution_count": 8,
   "id": "772cc7b1",
   "metadata": {},
   "outputs": [
    {
     "name": "stdout",
     "output_type": "stream",
     "text": [
      "Original array:\n",
      "[[1 2 3]\n",
      " [4 5 6]\n",
      " [7 8 9]]\n",
      "After flipping array:\n",
      "[[3 2 1]\n",
      " [6 5 4]\n",
      " [9 8 7]]\n"
     ]
    }
   ],
   "source": [
    "# 7) Reversing the columns of a 2D array \n",
    "z = np.array([[1,2,3],[4,5,6],[7,8,9]])\n",
    "print(\"Original array:\")\n",
    "print(z)\n",
    "flip_array = np.flip(z[::-1])\n",
    "print(\"After flipping array:\")\n",
    "print(flip_array)"
   ]
  },
  {
   "cell_type": "code",
   "execution_count": 9,
   "id": "a8b260b8",
   "metadata": {},
   "outputs": [
    {
     "data": {
      "text/plain": [
       "array([[6.12322289, 8.27542313, 7.0119224 ],\n",
       "       [8.93147301, 9.19544462, 7.618034  ],\n",
       "       [8.72460201, 5.83310324, 5.31616388],\n",
       "       [6.77249742, 7.83262018, 8.11205481],\n",
       "       [6.33340611, 7.67129294, 7.48207663]])"
      ]
     },
     "execution_count": 9,
     "metadata": {},
     "output_type": "execute_result"
    }
   ],
   "source": [
    "# 8) Create a 2D array of shape 5x3 to contain random decimal numbers between 5 and 10 \n",
    "d = np.random.uniform(low=5,high=10,size=(5,3))\n",
    "d"
   ]
  },
  {
   "cell_type": "code",
   "execution_count": 10,
   "id": "60ee2662",
   "metadata": {},
   "outputs": [
    {
     "name": "stdout",
     "output_type": "stream",
     "text": [
      "Original array:\n",
      "[[1. 1. 1. 1. 1. 1. 1. 1. 1. 1.]\n",
      " [1. 1. 1. 1. 1. 1. 1. 1. 1. 1.]\n",
      " [1. 1. 1. 1. 1. 1. 1. 1. 1. 1.]\n",
      " [1. 1. 1. 1. 1. 1. 1. 1. 1. 1.]\n",
      " [1. 1. 1. 1. 1. 1. 1. 1. 1. 1.]\n",
      " [1. 1. 1. 1. 1. 1. 1. 1. 1. 1.]\n",
      " [1. 1. 1. 1. 1. 1. 1. 1. 1. 1.]\n",
      " [1. 1. 1. 1. 1. 1. 1. 1. 1. 1.]\n",
      " [1. 1. 1. 1. 1. 1. 1. 1. 1. 1.]\n",
      " [1. 1. 1. 1. 1. 1. 1. 1. 1. 1.]]\n",
      "1 on the border and 0 inside in the array\n",
      "[[1. 1. 1. 1. 1. 1. 1. 1. 1. 1.]\n",
      " [1. 0. 0. 0. 0. 0. 0. 0. 0. 1.]\n",
      " [1. 0. 0. 0. 0. 0. 0. 0. 0. 1.]\n",
      " [1. 0. 0. 0. 0. 0. 0. 0. 0. 1.]\n",
      " [1. 0. 0. 0. 0. 0. 0. 0. 0. 1.]\n",
      " [1. 0. 0. 0. 0. 0. 0. 0. 0. 1.]\n",
      " [1. 0. 0. 0. 0. 0. 0. 0. 0. 1.]\n",
      " [1. 0. 0. 0. 0. 0. 0. 0. 0. 1.]\n",
      " [1. 0. 0. 0. 0. 0. 0. 0. 0. 1.]\n",
      " [1. 1. 1. 1. 1. 1. 1. 1. 1. 1.]]\n"
     ]
    }
   ],
   "source": [
    "# 9) Create a 2d array with 1 on the border and 0 inside in the array\n",
    "arr = np.ones((10,10))\n",
    "print(\"Original array:\")\n",
    "print(arr)\n",
    "print(\"1 on the border and 0 inside in the array\")\n",
    "arr[1:-1,1:-1] = 0\n",
    "print(arr)"
   ]
  },
  {
   "cell_type": "code",
   "execution_count": 11,
   "id": "450e604b",
   "metadata": {},
   "outputs": [
    {
     "name": "stdout",
     "output_type": "stream",
     "text": [
      "row:  [0 1 2]\n",
      "col:  [2 0 3]\n"
     ]
    },
    {
     "data": {
      "text/plain": [
       "array([12, 14, 11])"
      ]
     },
     "execution_count": 11,
     "metadata": {},
     "output_type": "execute_result"
    }
   ],
   "source": [
    "# 10) Write script to produce the desired output.\n",
    "X = np.array([[9,1,12,3],[14,15,6,7], [18,9,10,11]]) \n",
    "row = np.array([0,1,2])\n",
    "col = np.array([2,0,3])\n",
    "print('row: ',row)\n",
    "print('col: ',col)\n",
    "X[row,col]"
   ]
  },
  {
   "cell_type": "code",
   "execution_count": null,
   "id": "d7a40194",
   "metadata": {},
   "outputs": [],
   "source": []
  },
  {
   "cell_type": "code",
   "execution_count": null,
   "id": "320021df",
   "metadata": {},
   "outputs": [],
   "source": []
  },
  {
   "cell_type": "code",
   "execution_count": null,
   "id": "d4f8cad5",
   "metadata": {},
   "outputs": [],
   "source": []
  }
 ],
 "metadata": {
  "kernelspec": {
   "display_name": "Python 3 (ipykernel)",
   "language": "python",
   "name": "python3"
  },
  "language_info": {
   "codemirror_mode": {
    "name": "ipython",
    "version": 3
   },
   "file_extension": ".py",
   "mimetype": "text/x-python",
   "name": "python",
   "nbconvert_exporter": "python",
   "pygments_lexer": "ipython3",
   "version": "3.9.12"
  }
 },
 "nbformat": 4,
 "nbformat_minor": 5
}
