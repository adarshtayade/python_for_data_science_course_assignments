{
 "cells": [
  {
   "cell_type": "code",
   "execution_count": 10,
   "id": "3440a53d",
   "metadata": {},
   "outputs": [],
   "source": [
    "# Importing libraries\n",
    "import pandas as pd\n",
    "import numpy as np\n",
    "import re\n",
    "import string\n",
    "from string import punctuation"
   ]
  },
  {
   "cell_type": "code",
   "execution_count": 3,
   "id": "9e23d28a",
   "metadata": {},
   "outputs": [],
   "source": [
    "text = '''From: keith@cco.caltech.edu (Keith Allan Schneider) Subject: Re: <<Pompous ass\\nOrganization: California Institute of Technology, Pasadena\\nLines: 16\\nNNTP-Posting-Host: punisher.caltech.edu\\nlivesey@solntze.wpd.sgi.com (Jon Livesey) writes:\\n[...]\\n>>The \"`little' things\" above were in reference to\\nGermany, clearly. People\\n>>said that there were similar things\\nin Germany, but no one could name any.\\n>That's not true. I\\ngave you two examples. One was the rather\\n>pevasive anti\\nsemitism in German Christianity well before Hitler\\n>arrived. \\nThe other was the system of social ranks that were used\\n>in\\nImperail Germany and Austria to distinguish Jews from the\\nrest \\n>of the population.\\nThese don't seem like \"little\\nthings\" to me. At least, they are orders\\nworse than the\\nmotto. Do you think that the motto is a \"little thing\"\\nthat\\nwill lead to worse things?\\nkeith'''"
   ]
  },
  {
   "cell_type": "markdown",
   "id": "10ef3bbd",
   "metadata": {},
   "source": [
    "#### 1. Remove only punctuation that separates sentences."
   ]
  },
  {
   "cell_type": "code",
   "execution_count": 4,
   "id": "4c383f6b",
   "metadata": {},
   "outputs": [
    {
     "name": "stdout",
     "output_type": "stream",
     "text": [
      "From: keith@cco.caltech.edu (Keith Allan Schneider) Subject: Re: <<Pompous ass\n",
      "Organization: California Institute of Technology Pasadena\n",
      "Lines: 16\n",
      "NNTP-Posting-Host: punisher.caltech.edu\n",
      "livesey@solntze.wpd.sgi.com (Jon Livesey) writes:\n",
      "[...]\n",
      ">>The \"`little' things\" above were in reference to\n",
      "Germany clearly People\n",
      ">>said that there were similar things\n",
      "in Germany but no one could name any\n",
      ">That's not true I\n",
      "gave you two examples One was the rather\n",
      ">pevasive anti\n",
      "semitism in German Christianity well before Hitler\n",
      ">arrived \n",
      "The other was the system of social ranks that were used\n",
      ">in\n",
      "Imperail Germany and Austria to distinguish Jews from the\n",
      "rest \n",
      ">of the population\n",
      "These don't seem like \"little\n",
      "things\" to me At least they are orders\n",
      "worse than the\n",
      "motto Do you think that the motto is a \"little thing\"\n",
      "that\n",
      "will lead to worse things\n",
      "keith\n"
     ]
    }
   ],
   "source": [
    "sent = ''.join(re.sub('(?<=[a-zA-Z])[\\.\\?\\!\\,](?=\\s|$)','',text))\n",
    "print(sent)"
   ]
  },
  {
   "cell_type": "markdown",
   "id": "f3db7799",
   "metadata": {},
   "source": [
    "#### 2. Extract name and email addresses"
   ]
  },
  {
   "cell_type": "code",
   "execution_count": 5,
   "id": "f683c88f",
   "metadata": {},
   "outputs": [
    {
     "data": {
      "text/plain": [
       "'keith@cco.caltech.edu, livesey@solntze.wpd.sgi.com'"
      ]
     },
     "execution_count": 5,
     "metadata": {},
     "output_type": "execute_result"
    }
   ],
   "source": [
    "email = ', '.join(re.findall('\\S+@+.\\S+', text))\n",
    "email"
   ]
  },
  {
   "cell_type": "code",
   "execution_count": 7,
   "id": "c1e52cac",
   "metadata": {},
   "outputs": [
    {
     "data": {
      "text/plain": [
       "'(Keith Allan Schneider), (Jon Livesey)'"
      ]
     },
     "execution_count": 7,
     "metadata": {},
     "output_type": "execute_result"
    }
   ],
   "source": [
    "name = ', '.join(re.findall('\\([\\w\\s]*\\)', text)) \n",
    "name"
   ]
  },
  {
   "cell_type": "markdown",
   "id": "928edd2d",
   "metadata": {},
   "source": [
    "#### 3. Split by delimiter \\n ,\\t and whitespace then lowercase all tokens."
   ]
  },
  {
   "cell_type": "code",
   "execution_count": 9,
   "id": "c265feb8",
   "metadata": {},
   "outputs": [
    {
     "data": {
      "text/plain": [
       "['from:',\n",
       " 'keith@cco.caltech.edu',\n",
       " '(keith',\n",
       " 'allan',\n",
       " 'schneider)',\n",
       " 'subject:',\n",
       " 're:',\n",
       " '<<pompous',\n",
       " 'ass',\n",
       " 'organization:',\n",
       " 'california',\n",
       " 'institute',\n",
       " 'of',\n",
       " 'technology,',\n",
       " 'pasadena',\n",
       " 'lines:',\n",
       " '16',\n",
       " 'nntp-posting-host:',\n",
       " 'punisher.caltech.edu',\n",
       " 'livesey@solntze.wpd.sgi.com',\n",
       " '(jon',\n",
       " 'livesey)',\n",
       " 'writes:',\n",
       " '[...]',\n",
       " '>>the',\n",
       " '\"`little\\'',\n",
       " 'things\"',\n",
       " 'above',\n",
       " 'were',\n",
       " 'in',\n",
       " 'reference',\n",
       " 'to',\n",
       " 'germany,',\n",
       " 'clearly.',\n",
       " 'people',\n",
       " '>>said',\n",
       " 'that',\n",
       " 'there',\n",
       " 'were',\n",
       " 'similar',\n",
       " 'things',\n",
       " 'in',\n",
       " 'germany,',\n",
       " 'but',\n",
       " 'no',\n",
       " 'one',\n",
       " 'could',\n",
       " 'name',\n",
       " 'any.',\n",
       " \">that's\",\n",
       " 'not',\n",
       " 'true.',\n",
       " 'i',\n",
       " 'gave',\n",
       " 'you',\n",
       " 'two',\n",
       " 'examples.',\n",
       " 'one',\n",
       " 'was',\n",
       " 'the',\n",
       " 'rather',\n",
       " '>pevasive',\n",
       " 'anti',\n",
       " 'semitism',\n",
       " 'in',\n",
       " 'german',\n",
       " 'christianity',\n",
       " 'well',\n",
       " 'before',\n",
       " 'hitler',\n",
       " '>arrived.',\n",
       " 'the',\n",
       " 'other',\n",
       " 'was',\n",
       " 'the',\n",
       " 'system',\n",
       " 'of',\n",
       " 'social',\n",
       " 'ranks',\n",
       " 'that',\n",
       " 'were',\n",
       " 'used',\n",
       " '>in',\n",
       " 'imperail',\n",
       " 'germany',\n",
       " 'and',\n",
       " 'austria',\n",
       " 'to',\n",
       " 'distinguish',\n",
       " 'jews',\n",
       " 'from',\n",
       " 'the',\n",
       " 'rest',\n",
       " '>of',\n",
       " 'the',\n",
       " 'population.',\n",
       " 'these',\n",
       " \"don't\",\n",
       " 'seem',\n",
       " 'like',\n",
       " '\"little',\n",
       " 'things\"',\n",
       " 'to',\n",
       " 'me.',\n",
       " 'at',\n",
       " 'least,',\n",
       " 'they',\n",
       " 'are',\n",
       " 'orders',\n",
       " 'worse',\n",
       " 'than',\n",
       " 'the',\n",
       " 'motto.',\n",
       " 'do',\n",
       " 'you',\n",
       " 'think',\n",
       " 'that',\n",
       " 'the',\n",
       " 'motto',\n",
       " 'is',\n",
       " 'a',\n",
       " '\"little',\n",
       " 'thing\"',\n",
       " 'that',\n",
       " 'will',\n",
       " 'lead',\n",
       " 'to',\n",
       " 'worse',\n",
       " 'things?',\n",
       " 'keith']"
      ]
     },
     "execution_count": 9,
     "metadata": {},
     "output_type": "execute_result"
    }
   ],
   "source": [
    "words = re.split(r'[\\n\\t\\s]+', text)\n",
    "words_small = [i.lower() for i in words]\n",
    "words_small"
   ]
  },
  {
   "cell_type": "markdown",
   "id": "c637fd7f",
   "metadata": {},
   "source": [
    "#### 4. Remove tokens that don't contain any alphanumeric characters: meaningless token such as [...] will be removed"
   ]
  },
  {
   "cell_type": "code",
   "execution_count": 12,
   "id": "87f03999",
   "metadata": {},
   "outputs": [
    {
     "name": "stdout",
     "output_type": "stream",
     "text": [
      "From: keith@cco.caltech.edu (Keith Allan Schneider) Subject: Re: <<Pompous ass\n",
      "Organization: California Institute of Technology Pasadena\n",
      "Lines: 16\n",
      "NNTP-Posting-Host: punisher.caltech.edu\n",
      "livesey@solntze.wpd.sgi.com (Jon Livesey) writes:\n",
      "[...]\n",
      ">>The \"`little' things\" above were in reference to\n",
      "Germany clearly People\n",
      ">>said that there were similar things\n",
      "in Germany but no one could name any\n",
      ">That's not true I\n",
      "gave you two examples One was the rather\n",
      ">pevasive anti\n",
      "semitism in German Christianity well before Hitler\n",
      ">arrived \n",
      "The other was the system of social ranks that were used\n",
      ">in\n",
      "Imperail Germany and Austria to distinguish Jews from the\n",
      "rest \n",
      ">of the population\n",
      "These don't seem like \"little\n",
      "things\" to me At least they are orders\n",
      "worse than the\n",
      "motto Do you think that the motto is a \"little thing\"\n",
      "that\n",
      "will lead to worse things\n",
      "keith\n"
     ]
    }
   ],
   "source": [
    "print(sent.strip(punctuation))"
   ]
  },
  {
   "cell_type": "markdown",
   "id": "009f0d08",
   "metadata": {},
   "source": [
    "#### 6. Remove stopwords"
   ]
  },
  {
   "cell_type": "code",
   "execution_count": null,
   "id": "ce943ab2",
   "metadata": {},
   "outputs": [],
   "source": []
  }
 ],
 "metadata": {
  "kernelspec": {
   "display_name": "Python 3 (ipykernel)",
   "language": "python",
   "name": "python3"
  },
  "language_info": {
   "codemirror_mode": {
    "name": "ipython",
    "version": 3
   },
   "file_extension": ".py",
   "mimetype": "text/x-python",
   "name": "python",
   "nbconvert_exporter": "python",
   "pygments_lexer": "ipython3",
   "version": "3.9.12"
  }
 },
 "nbformat": 4,
 "nbformat_minor": 5
}
